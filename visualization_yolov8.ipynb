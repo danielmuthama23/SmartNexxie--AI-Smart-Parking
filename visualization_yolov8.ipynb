{
 "cells": [
  {
   "cell_type": "code",
   "execution_count": 5,
   "id": "ca879362-690b-4846-bca4-28a7c4a0bfb1",
   "metadata": {
    "advisor": {
     "adviceMetadata": "{\"artifactId\":\"be7e8010-fe91-4fef-bad3-16b3209ce53f\",\"activityId\":\"ac1fa5d8-b91e-4017-b0fa-f58a05e0ce1c\",\"applicationId\":\"application_1760119365461_0001\",\"jobGroupId\":\"8\",\"advices\":{\"error\":1}}"
    },
    "microsoft": {
     "language": "python",
     "language_group": "synapse_pyspark"
    }
   },
   "outputs": [
    {
     "name": "stdout",
     "output_type": "stream",
     "text": [
      "\n",
      "🎥 STEP 4: VISUAL AI DEMO – YOLOv8 PARKING MANAGEMENT VISUALIZATION\n",
      "🚗 Processing video frames for parking visualization...\n",
      "✅ Visualization complete — saved to output/parking_visual.mp4\n",
      "🖼️ Processed 206 frames in 32s\n",
      "📊 Final Occupancy Rate: 0.0% (0/2 occupied)\n"
     ]
    }
   ],
   "source": [
    "# =============================================================================\n",
    "# STEP 4: VISUAL AI DEMO – YOLOv8 PARKING MANAGEMENT VISUALIZATION\n",
    "# =============================================================================\n",
    "\n",
    "# !pip install ultralytics \n",
    "# opencv-python numpy\n",
    "\n",
    "print(\"\\n🎥 STEP 4: VISUAL AI DEMO – YOLOv8 PARKING MANAGEMENT VISUALIZATION\")\n",
    "\n",
    "import cv2\n",
    "import json\n",
    "import numpy as np\n",
    "from ultralytics import YOLO\n",
    "from datetime import datetime\n",
    "import os\n",
    "\n",
    "class ParkingVisualizer:\n",
    "    def __init__(self, model_path, region_json, video_path, output_path):\n",
    "        \"\"\"\n",
    "        YOLOv8-based Parking Visualization System\n",
    "        \"\"\"\n",
    "        self.model = YOLO(model_path)\n",
    "        self.video_path = video_path\n",
    "        self.output_path = output_path\n",
    "        \n",
    "        with open(region_json, 'r') as f:\n",
    "            self.regions = json.load(f)\n",
    "\n",
    "        self.colors = {\n",
    "            'occupied': (0, 0, 255),\n",
    "            'available': (0, 255, 0)\n",
    "        }\n",
    "\n",
    "    def is_inside_region(self, point, polygon):\n",
    "        \"\"\"Check if a detected object's center point lies inside a polygon region.\"\"\"\n",
    "        return cv2.pointPolygonTest(np.array(polygon, np.int32), point, False) >= 0\n",
    "\n",
    "    def run(self, show_live=False):\n",
    "        \"\"\"Run visualization process.\"\"\"\n",
    "        cap = cv2.VideoCapture(self.video_path)\n",
    "        if not cap.isOpened():\n",
    "            print(\"❌ Error: Unable to open video file.\")\n",
    "            return\n",
    "        \n",
    "        frame_width = int(cap.get(cv2.CAP_PROP_FRAME_WIDTH))\n",
    "        frame_height = int(cap.get(cv2.CAP_PROP_FRAME_HEIGHT))\n",
    "        fps = cap.get(cv2.CAP_PROP_FPS)\n",
    "\n",
    "        os.makedirs(os.path.dirname(self.output_path), exist_ok=True)\n",
    "        out = cv2.VideoWriter(\n",
    "            self.output_path,\n",
    "            cv2.VideoWriter_fourcc(*'mp4v'),\n",
    "            fps,\n",
    "            (frame_width, frame_height)\n",
    "        )\n",
    "\n",
    "        print(\"🚗 Processing video frames for parking visualization...\")\n",
    "        frame_count = 0\n",
    "        total_spots = len(self.regions)\n",
    "        start_time = datetime.now()\n",
    "\n",
    "        while True:\n",
    "            ret, frame = cap.read()\n",
    "            if not ret:\n",
    "                break\n",
    "\n",
    "            detections = self.model(frame, verbose=False)\n",
    "            boxes = detections[0].boxes.xyxy.cpu().numpy() if detections and detections[0].boxes else []\n",
    "\n",
    "            region_status = {str(i): 'available' for i in range(len(self.regions))}\n",
    "            for box in boxes:\n",
    "                x1, y1, x2, y2 = map(int, box[:4])\n",
    "                cx, cy = int((x1 + x2) / 2), int((y1 + y2) / 2)\n",
    "                for i, region in enumerate(self.regions):\n",
    "                    if self.is_inside_region((cx, cy), region['points']):\n",
    "                        region_status[str(i)] = 'occupied'\n",
    "\n",
    "            occupied = list(region_status.values()).count('occupied')\n",
    "            available = total_spots - occupied\n",
    "            occupancy_rate = (occupied / total_spots) * 100\n",
    "\n",
    "            for i, region in enumerate(self.regions):\n",
    "                pts = np.array(region['points'], np.int32)\n",
    "                status = region_status[str(i)]\n",
    "                color = self.colors[status]\n",
    "                cv2.polylines(frame, [pts], True, color, 2)\n",
    "                cv2.putText(frame, status.upper(),\n",
    "                            (pts[0][0], pts[0][1] - 10),\n",
    "                            cv2.FONT_HERSHEY_SIMPLEX, 0.6, color, 2)\n",
    "\n",
    "            cv2.rectangle(frame, (10, 10), (350, 70), (50, 50, 50), -1)\n",
    "            cv2.putText(frame, f\"Total Spots: {total_spots}\", (20, 30),\n",
    "                        cv2.FONT_HERSHEY_SIMPLEX, 0.6, (255, 255, 255), 2)\n",
    "            cv2.putText(frame, f\"Available: {available}  Occupied: {occupied}\", (20, 50),\n",
    "                        cv2.FONT_HERSHEY_SIMPLEX, 0.6, (0, 255, 255), 2)\n",
    "            cv2.putText(frame, f\"Occupancy: {occupancy_rate:.1f}%\", (200, 30),\n",
    "                        cv2.FONT_HERSHEY_SIMPLEX, 0.6, (255, 255, 255), 2)\n",
    "\n",
    "            out.write(frame)\n",
    "            frame_count += 1\n",
    "\n",
    "            # Show live video only if environment supports GUI\n",
    "            if show_live:\n",
    "                try:\n",
    "                    cv2.imshow(\"Smart Parking Visualization\", frame)\n",
    "                    if cv2.waitKey(1) & 0xFF == ord('q'):\n",
    "                        break\n",
    "                except cv2.error:\n",
    "                    print(\"⚠️ GUI not supported — skipping live display.\")\n",
    "                    show_live = False  # disable further attempts\n",
    "\n",
    "        if frame_count % 50 == 0:\n",
    "            print(f\"🧩 Processed {frame_count} frames...\")\n",
    "\n",
    "        cap.release()\n",
    "        out.release()\n",
    "\n",
    "        # Safely close any OpenCV windows (if GUI available)\n",
    "        if show_live:\n",
    "            try:\n",
    "                cv2.destroyAllWindows()\n",
    "            except cv2.error:\n",
    "                print(\"⚠️ GUI not supported — skipping window cleanup.\")\n",
    "\n",
    "        duration = (datetime.now() - start_time).seconds\n",
    "        print(f\"✅ Visualization complete — saved to {self.output_path}\")\n",
    "        print(f\"🖼️ Processed {frame_count} frames in {duration}s\")\n",
    "        print(f\"📊 Final Occupancy Rate: {occupancy_rate:.1f}% ({occupied}/{total_spots} occupied)\")\n",
    "\n",
    "# =============================================================================\n",
    "# Example Usage\n",
    "# =============================================================================\n",
    "\n",
    "model_path = \"models/yolov8n.pt\"\n",
    "region_json = \"data/parking_zones.json\"\n",
    "video_path = \"data/sample_video.mp4\"\n",
    "output_path = \"output/parking_visual.mp4\"\n",
    "\n",
    "visualizer = ParkingVisualizer(model_path, region_json, video_path, output_path)\n",
    "visualizer.run(show_live=False)  # ✅ Set to True only if your environment supports OpenCV windows\n"
   ]
  },
  {
   "cell_type": "code",
   "execution_count": null,
   "id": "7ba75557-c0a9-4646-b241-7262607a8dbb",
   "metadata": {},
   "outputs": [],
   "source": []
  }
 ],
 "metadata": {
  "dependencies": {},
  "kernel_info": {
   "name": "synapse_pyspark"
  },
  "kernelspec": {
   "display_name": "Python 3 (ipykernel)",
   "language": "python",
   "name": "python3"
  },
  "language_info": {
   "codemirror_mode": {
    "name": "ipython",
    "version": 3
   },
   "file_extension": ".py",
   "mimetype": "text/x-python",
   "name": "python",
   "nbconvert_exporter": "python",
   "pygments_lexer": "ipython3",
   "version": "3.12.7"
  },
  "microsoft": {
   "language": "python",
   "language_group": "synapse_pyspark",
   "ms_spell_check": {
    "ms_spell_check_language": "en"
   }
  },
  "nteract": {
   "version": "nteract-front-end@1.0.0"
  },
  "spark_compute": {
   "compute_id": "/trident/default",
   "session_options": {
    "conf": {
     "spark.synapse.nbs.session.timeout": "1200000"
    }
   }
  }
 },
 "nbformat": 4,
 "nbformat_minor": 5
}
